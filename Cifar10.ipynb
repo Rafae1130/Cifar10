{
  "nbformat": 4,
  "nbformat_minor": 0,
  "metadata": {
    "colab": {
      "name": "Cifar10.ipynb",
      "provenance": [],
      "authorship_tag": "ABX9TyNsOIFcU3wSt//M83wkqTb7",
      "include_colab_link": true
    },
    "kernelspec": {
      "name": "python3",
      "display_name": "Python 3"
    },
    "language_info": {
      "name": "python"
    },
    "accelerator": "GPU"
  },
  "cells": [
    {
      "cell_type": "markdown",
      "metadata": {
        "id": "view-in-github",
        "colab_type": "text"
      },
      "source": [
        "<a href=\"https://colab.research.google.com/github/Rafae1130/Cifar10/blob/main/Cifar10.ipynb\" target=\"_parent\"><img src=\"https://colab.research.google.com/assets/colab-badge.svg\" alt=\"Open In Colab\"/></a>"
      ]
    },
    {
      "cell_type": "code",
      "execution_count": 1,
      "metadata": {
        "id": "5-gH5n6G07uz"
      },
      "outputs": [],
      "source": [
        "import tensorflow as tf"
      ]
    },
    {
      "cell_type": "code",
      "source": [
        "cifar = tf.keras.datasets.cifar10"
      ],
      "metadata": {
        "id": "QHbexnFL1DL1"
      },
      "execution_count": 2,
      "outputs": []
    },
    {
      "cell_type": "code",
      "source": [
        "(x_train, y_train), (x_test, y_test)= cifar.load_data()"
      ],
      "metadata": {
        "id": "ozMLPQnM1NCG"
      },
      "execution_count": 3,
      "outputs": []
    },
    {
      "cell_type": "code",
      "source": [
        "import numpy as np"
      ],
      "metadata": {
        "id": "OG4X6SDF1aMf"
      },
      "execution_count": 4,
      "outputs": []
    },
    {
      "cell_type": "code",
      "source": [
        "y_test.shape"
      ],
      "metadata": {
        "colab": {
          "base_uri": "https://localhost:8080/"
        },
        "id": "QozavWuL1gXk",
        "outputId": "a44f0c09-f596-44cc-a68e-55bce641d2fb"
      },
      "execution_count": 5,
      "outputs": [
        {
          "output_type": "execute_result",
          "data": {
            "text/plain": [
              "(10000, 1)"
            ]
          },
          "metadata": {},
          "execution_count": 5
        }
      ]
    },
    {
      "cell_type": "code",
      "source": [
        "y_train=y_train.flatten()\n",
        "y_test=y_test.flatten()"
      ],
      "metadata": {
        "id": "yGHo2P4A1i3G"
      },
      "execution_count": 6,
      "outputs": []
    },
    {
      "cell_type": "code",
      "source": [
        "x_train, x_test= x_train/255., x_test/255."
      ],
      "metadata": {
        "id": "QThR_MnV15-X"
      },
      "execution_count": 7,
      "outputs": []
    },
    {
      "cell_type": "code",
      "source": [
        "from tensorflow.keras.models import Model\n",
        "from tensorflow.keras.layers import Conv2D, Input, Flatten, Dropout, Dense, BatchNormalization, MaxPooling2D"
      ],
      "metadata": {
        "id": "w-EC05zr2Xuh"
      },
      "execution_count": 8,
      "outputs": []
    },
    {
      "cell_type": "code",
      "source": [
        "K=len(set(y_test))"
      ],
      "metadata": {
        "id": "vujm_YSk3kDM"
      },
      "execution_count": 9,
      "outputs": []
    },
    {
      "cell_type": "code",
      "source": [
        "from tensorflow.keras.preprocessing.image import ImageDataGenerator"
      ],
      "metadata": {
        "id": "YVg65pVo_uxj"
      },
      "execution_count": 10,
      "outputs": []
    },
    {
      "cell_type": "code",
      "source": [
        "data= ImageDataGenerator(\n",
        "    width_shift_range=0.1,\n",
        "    height_shift_range=0.1,\n",
        "    horizontal_flip=True,\n",
        "    rotation_range=0.1,\n",
        "    vertical_flip=True\n",
        ")"
      ],
      "metadata": {
        "id": "30815bu3_iUP"
      },
      "execution_count": 11,
      "outputs": []
    },
    {
      "cell_type": "code",
      "source": [
        "data_aug=data.flow(x_train, y_train, batch_size=32)"
      ],
      "metadata": {
        "id": "5XsX4InsAnQa"
      },
      "execution_count": 12,
      "outputs": []
    },
    {
      "cell_type": "code",
      "source": [
        "i=Input(shape=x_train[0].shape)\n",
        "x=Conv2D(32, (3,3), activation='relu', padding='same')(i)\n",
        "x=BatchNormalization()(x)\n",
        "x=Conv2D(32, (3,3), activation='relu', padding='same')(i)\n",
        "x=BatchNormalization()(x)\n",
        "x=MaxPooling2D()(x)\n",
        "\n",
        "x=Conv2D(64, (3,3), activation='relu',padding='same')(x)\n",
        "x=BatchNormalization()(x)\n",
        "x=Conv2D(64, (3,3), activation='relu',padding='same')(x)\n",
        "x=BatchNormalization()(x)\n",
        "x=MaxPooling2D()(x)\n",
        "\n",
        "x=Conv2D(128, (3,3), activation='relu',padding='same')(x)\n",
        "x=BatchNormalization()(x)\n",
        "x=Conv2D(128, (3,3), activation='relu',padding='same')(x)\n",
        "x=BatchNormalization()(x)\n",
        "x=MaxPooling2D()(x)\n",
        "\n",
        "x=Flatten()(x)\n",
        "x=Dense(1024, activation='relu')(x)\n",
        "x=Dense(K, activation='softmax')(x)\n",
        "\n",
        "model=Model(i,x)"
      ],
      "metadata": {
        "id": "z6VSd06w2rKB"
      },
      "execution_count": 22,
      "outputs": []
    },
    {
      "cell_type": "code",
      "source": [
        "model.compile(optimizer=tf.keras.optimizers.Adam(learning_rate=0.00001),loss=tf.keras.losses.SparseCategoricalCrossentropy( ) , metrics=['accuracy'])"
      ],
      "metadata": {
        "id": "n3mzJBNr3tnY"
      },
      "execution_count": 23,
      "outputs": []
    },
    {
      "cell_type": "code",
      "source": [
        "model.summary()"
      ],
      "metadata": {
        "colab": {
          "base_uri": "https://localhost:8080/"
        },
        "id": "NEDSLHFP9WCv",
        "outputId": "4c91f79b-0dee-4210-8e62-97163439ece2"
      },
      "execution_count": 15,
      "outputs": [
        {
          "output_type": "stream",
          "name": "stdout",
          "text": [
            "Model: \"model\"\n",
            "_________________________________________________________________\n",
            " Layer (type)                Output Shape              Param #   \n",
            "=================================================================\n",
            " input_1 (InputLayer)        [(None, 32, 32, 3)]       0         \n",
            "                                                                 \n",
            " conv2d_1 (Conv2D)           (None, 32, 32, 32)        896       \n",
            "                                                                 \n",
            " batch_normalization_1 (Batc  (None, 32, 32, 32)       128       \n",
            " hNormalization)                                                 \n",
            "                                                                 \n",
            " max_pooling2d (MaxPooling2D  (None, 16, 16, 32)       0         \n",
            " )                                                               \n",
            "                                                                 \n",
            " conv2d_2 (Conv2D)           (None, 16, 16, 64)        18496     \n",
            "                                                                 \n",
            " batch_normalization_2 (Batc  (None, 16, 16, 64)       256       \n",
            " hNormalization)                                                 \n",
            "                                                                 \n",
            " conv2d_3 (Conv2D)           (None, 16, 16, 64)        36928     \n",
            "                                                                 \n",
            " batch_normalization_3 (Batc  (None, 16, 16, 64)       256       \n",
            " hNormalization)                                                 \n",
            "                                                                 \n",
            " max_pooling2d_1 (MaxPooling  (None, 8, 8, 64)         0         \n",
            " 2D)                                                             \n",
            "                                                                 \n",
            " conv2d_4 (Conv2D)           (None, 8, 8, 128)         73856     \n",
            "                                                                 \n",
            " batch_normalization_4 (Batc  (None, 8, 8, 128)        512       \n",
            " hNormalization)                                                 \n",
            "                                                                 \n",
            " conv2d_5 (Conv2D)           (None, 8, 8, 128)         147584    \n",
            "                                                                 \n",
            " batch_normalization_5 (Batc  (None, 8, 8, 128)        512       \n",
            " hNormalization)                                                 \n",
            "                                                                 \n",
            " max_pooling2d_2 (MaxPooling  (None, 4, 4, 128)        0         \n",
            " 2D)                                                             \n",
            "                                                                 \n",
            " flatten (Flatten)           (None, 2048)              0         \n",
            "                                                                 \n",
            " dense (Dense)               (None, 128)               262272    \n",
            "                                                                 \n",
            " dense_1 (Dense)             (None, 10)                1290      \n",
            "                                                                 \n",
            "=================================================================\n",
            "Total params: 542,986\n",
            "Trainable params: 542,154\n",
            "Non-trainable params: 832\n",
            "_________________________________________________________________\n"
          ]
        }
      ]
    },
    {
      "cell_type": "code",
      "source": [
        "r=model.fit_generator(data_aug , epochs=50, validation_data=(x_test, y_test), steps_per_epoch=1563)"
      ],
      "metadata": {
        "colab": {
          "base_uri": "https://localhost:8080/"
        },
        "id": "xKBjkP183-VN",
        "outputId": "aa0b26ac-02b3-4605-ce2e-216270e7863b"
      },
      "execution_count": 27,
      "outputs": [
        {
          "output_type": "stream",
          "name": "stdout",
          "text": [
            "Epoch 1/50\n",
            "   1/1563 [..............................] - ETA: 1:28 - loss: 1.1145 - accuracy: 0.5938"
          ]
        },
        {
          "output_type": "stream",
          "name": "stderr",
          "text": [
            "/usr/local/lib/python3.7/dist-packages/ipykernel_launcher.py:1: UserWarning: `Model.fit_generator` is deprecated and will be removed in a future version. Please use `Model.fit`, which supports generators.\n",
            "  \"\"\"Entry point for launching an IPython kernel.\n"
          ]
        },
        {
          "output_type": "stream",
          "name": "stdout",
          "text": [
            "1563/1563 [==============================] - 50s 32ms/step - loss: 1.2289 - accuracy: 0.5624 - val_loss: 1.2012 - val_accuracy: 0.5776\n",
            "Epoch 2/50\n",
            "1563/1563 [==============================] - 47s 30ms/step - loss: 1.2016 - accuracy: 0.5743 - val_loss: 1.1910 - val_accuracy: 0.5816\n",
            "Epoch 3/50\n",
            "1563/1563 [==============================] - 49s 31ms/step - loss: 1.1809 - accuracy: 0.5814 - val_loss: 1.1889 - val_accuracy: 0.5847\n",
            "Epoch 4/50\n",
            "1563/1563 [==============================] - 46s 30ms/step - loss: 1.1666 - accuracy: 0.5878 - val_loss: 1.1806 - val_accuracy: 0.5870\n",
            "Epoch 5/50\n",
            "1563/1563 [==============================] - 47s 30ms/step - loss: 1.1485 - accuracy: 0.5912 - val_loss: 1.1494 - val_accuracy: 0.5920\n",
            "Epoch 6/50\n",
            "1563/1563 [==============================] - 46s 30ms/step - loss: 1.1299 - accuracy: 0.6008 - val_loss: 1.1195 - val_accuracy: 0.6026\n",
            "Epoch 7/50\n",
            "1563/1563 [==============================] - 46s 29ms/step - loss: 1.1131 - accuracy: 0.6042 - val_loss: 1.1280 - val_accuracy: 0.6004\n",
            "Epoch 8/50\n",
            "1563/1563 [==============================] - 47s 30ms/step - loss: 1.0996 - accuracy: 0.6098 - val_loss: 1.1014 - val_accuracy: 0.6120\n",
            "Epoch 9/50\n",
            "1563/1563 [==============================] - 48s 31ms/step - loss: 1.0827 - accuracy: 0.6177 - val_loss: 1.0961 - val_accuracy: 0.6148\n",
            "Epoch 10/50\n",
            "1563/1563 [==============================] - 47s 30ms/step - loss: 1.0735 - accuracy: 0.6195 - val_loss: 1.0849 - val_accuracy: 0.6178\n",
            "Epoch 11/50\n",
            "1563/1563 [==============================] - 45s 29ms/step - loss: 1.0586 - accuracy: 0.6266 - val_loss: 1.0731 - val_accuracy: 0.6238\n",
            "Epoch 12/50\n",
            "1563/1563 [==============================] - 45s 29ms/step - loss: 1.0434 - accuracy: 0.6284 - val_loss: 1.0564 - val_accuracy: 0.6271\n",
            "Epoch 13/50\n",
            "1563/1563 [==============================] - 45s 29ms/step - loss: 1.0296 - accuracy: 0.6368 - val_loss: 1.0502 - val_accuracy: 0.6288\n",
            "Epoch 14/50\n",
            "1563/1563 [==============================] - 45s 29ms/step - loss: 1.0212 - accuracy: 0.6395 - val_loss: 1.0671 - val_accuracy: 0.6274\n",
            "Epoch 15/50\n",
            "1563/1563 [==============================] - 45s 29ms/step - loss: 1.0089 - accuracy: 0.6416 - val_loss: 1.0260 - val_accuracy: 0.6395\n",
            "Epoch 16/50\n",
            "1563/1563 [==============================] - 46s 29ms/step - loss: 0.9983 - accuracy: 0.6473 - val_loss: 1.0140 - val_accuracy: 0.6483\n",
            "Epoch 17/50\n",
            "1563/1563 [==============================] - 46s 29ms/step - loss: 0.9881 - accuracy: 0.6515 - val_loss: 1.0110 - val_accuracy: 0.6448\n",
            "Epoch 18/50\n",
            "1563/1563 [==============================] - 46s 29ms/step - loss: 0.9783 - accuracy: 0.6551 - val_loss: 1.0050 - val_accuracy: 0.6463\n",
            "Epoch 19/50\n",
            "1563/1563 [==============================] - 45s 29ms/step - loss: 0.9668 - accuracy: 0.6609 - val_loss: 0.9932 - val_accuracy: 0.6506\n",
            "Epoch 20/50\n",
            "1563/1563 [==============================] - 45s 29ms/step - loss: 0.9574 - accuracy: 0.6637 - val_loss: 0.9835 - val_accuracy: 0.6538\n",
            "Epoch 21/50\n",
            "1563/1563 [==============================] - 47s 30ms/step - loss: 0.9469 - accuracy: 0.6656 - val_loss: 0.9918 - val_accuracy: 0.6538\n",
            "Epoch 22/50\n",
            "1563/1563 [==============================] - 46s 29ms/step - loss: 0.9359 - accuracy: 0.6697 - val_loss: 0.9811 - val_accuracy: 0.6575\n",
            "Epoch 23/50\n",
            "1563/1563 [==============================] - 45s 29ms/step - loss: 0.9348 - accuracy: 0.6714 - val_loss: 0.9902 - val_accuracy: 0.6503\n",
            "Epoch 24/50\n",
            "1563/1563 [==============================] - 48s 31ms/step - loss: 0.9195 - accuracy: 0.6761 - val_loss: 0.9736 - val_accuracy: 0.6576\n",
            "Epoch 25/50\n",
            "1563/1563 [==============================] - 47s 30ms/step - loss: 0.9126 - accuracy: 0.6794 - val_loss: 0.9476 - val_accuracy: 0.6690\n",
            "Epoch 26/50\n",
            "1563/1563 [==============================] - 46s 29ms/step - loss: 0.9035 - accuracy: 0.6823 - val_loss: 0.9377 - val_accuracy: 0.6755\n",
            "Epoch 27/50\n",
            "1563/1563 [==============================] - 46s 29ms/step - loss: 0.8940 - accuracy: 0.6856 - val_loss: 0.9572 - val_accuracy: 0.6676\n",
            "Epoch 28/50\n",
            "1563/1563 [==============================] - 46s 30ms/step - loss: 0.8850 - accuracy: 0.6871 - val_loss: 0.9193 - val_accuracy: 0.6793\n",
            "Epoch 29/50\n",
            "1563/1563 [==============================] - 47s 30ms/step - loss: 0.8826 - accuracy: 0.6887 - val_loss: 0.9612 - val_accuracy: 0.6685\n",
            "Epoch 30/50\n",
            "1563/1563 [==============================] - 46s 29ms/step - loss: 0.8677 - accuracy: 0.6952 - val_loss: 0.9164 - val_accuracy: 0.6793\n",
            "Epoch 31/50\n",
            "1563/1563 [==============================] - 45s 29ms/step - loss: 0.8599 - accuracy: 0.6984 - val_loss: 0.9172 - val_accuracy: 0.6818\n",
            "Epoch 32/50\n",
            "1563/1563 [==============================] - 45s 29ms/step - loss: 0.8585 - accuracy: 0.6986 - val_loss: 0.9067 - val_accuracy: 0.6869\n",
            "Epoch 33/50\n",
            "1563/1563 [==============================] - 45s 29ms/step - loss: 0.8464 - accuracy: 0.7005 - val_loss: 0.9304 - val_accuracy: 0.6764\n",
            "Epoch 34/50\n",
            "1563/1563 [==============================] - 45s 29ms/step - loss: 0.8454 - accuracy: 0.7024 - val_loss: 0.8928 - val_accuracy: 0.6907\n",
            "Epoch 35/50\n",
            "1563/1563 [==============================] - 45s 29ms/step - loss: 0.8367 - accuracy: 0.7059 - val_loss: 0.8910 - val_accuracy: 0.6842\n",
            "Epoch 36/50\n",
            "1563/1563 [==============================] - 46s 29ms/step - loss: 0.8253 - accuracy: 0.7086 - val_loss: 0.9068 - val_accuracy: 0.6835\n",
            "Epoch 37/50\n",
            "1563/1563 [==============================] - 45s 29ms/step - loss: 0.8212 - accuracy: 0.7098 - val_loss: 0.8889 - val_accuracy: 0.6910\n",
            "Epoch 38/50\n",
            "1563/1563 [==============================] - 45s 29ms/step - loss: 0.8171 - accuracy: 0.7115 - val_loss: 0.8790 - val_accuracy: 0.6921\n",
            "Epoch 39/50\n",
            "1563/1563 [==============================] - 45s 29ms/step - loss: 0.8040 - accuracy: 0.7170 - val_loss: 0.8560 - val_accuracy: 0.7033\n",
            "Epoch 40/50\n",
            "1563/1563 [==============================] - 47s 30ms/step - loss: 0.8027 - accuracy: 0.7173 - val_loss: 0.8800 - val_accuracy: 0.6932\n",
            "Epoch 41/50\n",
            "1563/1563 [==============================] - 46s 30ms/step - loss: 0.8003 - accuracy: 0.7190 - val_loss: 0.8610 - val_accuracy: 0.7011\n",
            "Epoch 42/50\n",
            "1563/1563 [==============================] - 46s 29ms/step - loss: 0.7860 - accuracy: 0.7238 - val_loss: 0.8639 - val_accuracy: 0.7005\n",
            "Epoch 43/50\n",
            "1563/1563 [==============================] - 46s 29ms/step - loss: 0.7841 - accuracy: 0.7235 - val_loss: 0.8632 - val_accuracy: 0.7010\n",
            "Epoch 44/50\n",
            "1563/1563 [==============================] - 48s 31ms/step - loss: 0.7786 - accuracy: 0.7273 - val_loss: 0.8577 - val_accuracy: 0.7009\n",
            "Epoch 45/50\n",
            "1563/1563 [==============================] - 45s 29ms/step - loss: 0.7748 - accuracy: 0.7273 - val_loss: 0.8470 - val_accuracy: 0.7073\n",
            "Epoch 46/50\n",
            "1563/1563 [==============================] - 46s 29ms/step - loss: 0.7661 - accuracy: 0.7306 - val_loss: 0.8503 - val_accuracy: 0.7069\n",
            "Epoch 47/50\n",
            "1563/1563 [==============================] - 46s 29ms/step - loss: 0.7620 - accuracy: 0.7320 - val_loss: 0.8458 - val_accuracy: 0.7106\n",
            "Epoch 48/50\n",
            "1563/1563 [==============================] - 45s 29ms/step - loss: 0.7569 - accuracy: 0.7343 - val_loss: 0.8415 - val_accuracy: 0.7091\n",
            "Epoch 49/50\n",
            "1563/1563 [==============================] - 46s 30ms/step - loss: 0.7516 - accuracy: 0.7364 - val_loss: 0.8244 - val_accuracy: 0.7176\n",
            "Epoch 50/50\n",
            "1563/1563 [==============================] - 46s 30ms/step - loss: 0.7454 - accuracy: 0.7371 - val_loss: 0.8378 - val_accuracy: 0.7126\n"
          ]
        }
      ]
    },
    {
      "cell_type": "code",
      "source": [
        "import matplotlib.pyplot as plt\n",
        "plt.plot(r.history['accuracy'], label='accuracy')\n",
        "plt.plot(r.history['val_accuracy'], label='val_accuracy')\n",
        "\n",
        "plt.legend()"
      ],
      "metadata": {
        "colab": {
          "base_uri": "https://localhost:8080/",
          "height": 282
        },
        "id": "AliC4gSK4QAc",
        "outputId": "da99c1dc-0c07-49f9-bd37-8c68521230b3"
      },
      "execution_count": 31,
      "outputs": [
        {
          "output_type": "execute_result",
          "data": {
            "text/plain": [
              "<matplotlib.legend.Legend at 0x7ff134a83990>"
            ]
          },
          "metadata": {},
          "execution_count": 31
        },
        {
          "output_type": "display_data",
          "data": {
            "text/plain": [
              "<Figure size 432x288 with 1 Axes>"
            ],
            "image/png": "[encoded data removed]"
          },
          "metadata": {
            "needs_background": "light"
          }
        }
      ]
    },
    {
      "cell_type": "code",
      "source": [
        "import matplotlib.pyplot as plt\n",
        "plt.plot(r.history['loss'], label='loss')\n",
        "plt.plot(r.history['val_loss'], label='val_loss')\n",
        "\n",
        "plt.legend()"
      ],
      "metadata": {
        "colab": {
          "base_uri": "https://localhost:8080/",
          "height": 282
        },
        "id": "fkqFr_hd5yk0",
        "outputId": "63be30d9-e29d-4ba1-c4f4-08cde00c1b31"
      },
      "execution_count": 32,
      "outputs": [
        {
          "output_type": "execute_result",
          "data": {
            "text/plain": [
              "<matplotlib.legend.Legend at 0x7ff134bad910>"
            ]
          },
          "metadata": {},
          "execution_count": 32
        },
        {
          "output_type": "display_data",
          "data": {
            "text/plain": [
              "<Figure size 432x288 with 1 Axes>"
            ],
            "image/png": "[encoded data removed]"
          },
          "metadata": {
            "needs_background": "light"
          }
        }
      ]
    },
    {
      "cell_type": "code",
      "source": [
        ""
      ],
      "metadata": {
        "id": "6f9qVUimamMH"
      },
      "execution_count": null,
      "outputs": []
    }
  ]
}